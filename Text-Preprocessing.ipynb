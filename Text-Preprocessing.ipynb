{
 "cells": [
  {
   "cell_type": "markdown",
   "metadata": {},
   "source": [
    "Text Preprocesssing"
   ]
  },
  {
   "cell_type": "code",
   "execution_count": 2,
   "metadata": {},
   "outputs": [],
   "source": [
    "Corpus='''Hi, This is Gajalakshmi. studying AI ML and practising continously to be complete AI Expert. Learning python as well.'''"
   ]
  },
  {
   "cell_type": "code",
   "execution_count": 1,
   "metadata": {},
   "outputs": [],
   "source": [
    "from nltk.tokenize import sent_tokenize"
   ]
  },
  {
   "cell_type": "code",
   "execution_count": 3,
   "metadata": {},
   "outputs": [
    {
     "data": {
      "text/plain": [
       "['Hi, This is Gajalakshmi.',\n",
       " 'studying AI ML and practising continously to be complete AI Expert.',\n",
       " 'Learning python as well.']"
      ]
     },
     "execution_count": 3,
     "metadata": {},
     "output_type": "execute_result"
    }
   ],
   "source": [
    "sent_tokenize(Corpus)"
   ]
  },
  {
   "cell_type": "code",
   "execution_count": 4,
   "metadata": {},
   "outputs": [],
   "source": [
    "Document=sent_tokenize(Corpus)"
   ]
  },
  {
   "cell_type": "code",
   "execution_count": 5,
   "metadata": {},
   "outputs": [
    {
     "data": {
      "text/plain": [
       "list"
      ]
     },
     "execution_count": 5,
     "metadata": {},
     "output_type": "execute_result"
    }
   ],
   "source": [
    "type(Document)"
   ]
  },
  {
   "cell_type": "code",
   "execution_count": 6,
   "metadata": {},
   "outputs": [
    {
     "name": "stdout",
     "output_type": "stream",
     "text": [
      "Hi, This is Gajalakshmi.\n",
      "studying AI ML and practising continously to be complete AI Expert.\n",
      "Learning python as well.\n"
     ]
    }
   ],
   "source": [
    "for sent in Document:\n",
    "    print(sent)"
   ]
  },
  {
   "cell_type": "code",
   "execution_count": 8,
   "metadata": {},
   "outputs": [],
   "source": [
    "#tokenization\n",
    "#paragraph-words"
   ]
  },
  {
   "cell_type": "code",
   "execution_count": 7,
   "metadata": {},
   "outputs": [
    {
     "data": {
      "text/plain": [
       "['Hi',\n",
       " ',',\n",
       " 'This',\n",
       " 'is',\n",
       " 'Gajalakshmi',\n",
       " '.',\n",
       " 'studying',\n",
       " 'AI',\n",
       " 'ML',\n",
       " 'and',\n",
       " 'practising',\n",
       " 'continously',\n",
       " 'to',\n",
       " 'be',\n",
       " 'complete',\n",
       " 'AI',\n",
       " 'Expert',\n",
       " '.',\n",
       " 'Learning',\n",
       " 'python',\n",
       " 'as',\n",
       " 'well',\n",
       " '.']"
      ]
     },
     "execution_count": 7,
     "metadata": {},
     "output_type": "execute_result"
    }
   ],
   "source": [
    "from nltk.tokenize import word_tokenize\n",
    "word_tokenize(Corpus)"
   ]
  },
  {
   "cell_type": "markdown",
   "metadata": {},
   "source": [
    "all the ., everything consider as a words."
   ]
  },
  {
   "cell_type": "code",
   "execution_count": 11,
   "metadata": {},
   "outputs": [
    {
     "name": "stdout",
     "output_type": "stream",
     "text": [
      "['Hi', ',', 'This', 'is', 'Gajalakshmi', '.']\n",
      "['studying', 'AI', 'ML', 'and', 'practising', 'continously', 'to', 'be', 'complete', 'AI', 'Expert', '.']\n",
      "['Learning', 'python', 'as', 'well', '.']\n"
     ]
    }
   ],
   "source": [
    "for sen in Document:\n",
    "    print(word_tokenize(sen))"
   ]
  },
  {
   "cell_type": "markdown",
   "metadata": {},
   "source": [
    "#Wordpunct tokenize"
   ]
  },
  {
   "cell_type": "code",
   "execution_count": 12,
   "metadata": {},
   "outputs": [
    {
     "data": {
      "text/plain": [
       "['Hi',\n",
       " ',',\n",
       " 'This',\n",
       " 'is',\n",
       " 'Gajalakshmi',\n",
       " '.',\n",
       " 'studying',\n",
       " 'AI',\n",
       " 'ML',\n",
       " 'and',\n",
       " 'practising',\n",
       " 'continously',\n",
       " 'to',\n",
       " 'be',\n",
       " 'complete',\n",
       " 'AI',\n",
       " 'Expert',\n",
       " '.',\n",
       " 'Learning',\n",
       " 'python',\n",
       " 'as',\n",
       " 'well',\n",
       " '.']"
      ]
     },
     "execution_count": 12,
     "metadata": {},
     "output_type": "execute_result"
    }
   ],
   "source": [
    "from nltk.tokenize import wordpunct_tokenize\n",
    "wordpunct_tokenize(Corpus)#in this applause ' also will be seperate in the wordpunct tokenize"
   ]
  },
  {
   "cell_type": "markdown",
   "metadata": {},
   "source": [
    "Treebankword tokenizer"
   ]
  },
  {
   "cell_type": "code",
   "execution_count": 13,
   "metadata": {},
   "outputs": [
    {
     "data": {
      "text/plain": [
       "['Hi',\n",
       " ',',\n",
       " 'This',\n",
       " 'is',\n",
       " 'Gajalakshmi.',\n",
       " 'studying',\n",
       " 'AI',\n",
       " 'ML',\n",
       " 'and',\n",
       " 'practising',\n",
       " 'continously',\n",
       " 'to',\n",
       " 'be',\n",
       " 'complete',\n",
       " 'AI',\n",
       " 'Expert.',\n",
       " 'Learning',\n",
       " 'python',\n",
       " 'as',\n",
       " 'well',\n",
       " '.']"
      ]
     },
     "execution_count": 13,
     "metadata": {},
     "output_type": "execute_result"
    }
   ],
   "source": [
    "from nltk.tokenize import TreebankWordTokenizer\n",
    "tokenzier=TreebankWordTokenizer()\n",
    "tokenzier.tokenize(Corpus)\n",
    "#full stop not treated as seperate word"
   ]
  }
 ],
 "metadata": {
  "kernelspec": {
   "display_name": "Python 3",
   "language": "python",
   "name": "python3"
  },
  "language_info": {
   "codemirror_mode": {
    "name": "ipython",
    "version": 3
   },
   "file_extension": ".py",
   "mimetype": "text/x-python",
   "name": "python",
   "nbconvert_exporter": "python",
   "pygments_lexer": "ipython3",
   "version": "3.12.3"
  }
 },
 "nbformat": 4,
 "nbformat_minor": 2
}
